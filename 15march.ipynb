{
 "cells": [
  {
   "cell_type": "code",
   "execution_count": 1,
   "id": "76408131-805a-4b02-a6ef-32181eb28c21",
   "metadata": {},
   "outputs": [],
   "source": [
    "#1\n",
    "#Using virtual filters on our faces when taking pictures and using face ID for unlocking our phones are two examples of artificial intelligence that are now part of our daily lives. The former incorporates face detection, meaning any human face is identified. The latter uses face recognition through which a specific face is recognized.\n",
    "#Here are six real-life examples of how machine learning is being used. Image recognition is a well-known and widespread example of machine learning in the real world. It can identify an object as a digital image, based on the intensity of the pixels in black and white images or colour images.\n",
    "#Deep learning is a machine learning technique that enables computers to learn by example.0 It utilizes both structured and unstructured data for training. Practical examples of deep learning include virtual assistants, vision for driverless cars, money laundering, and face recognition.1 Deep learning algorithms train machines by learning from examples, and industries such as healthcare, eCommerce, entertainment, and advertising commonly use deep learning.2 It is a key technology behind driverless cars, enabling them to recognize a stop sign or distinguish a pedestrian from a lamppost."
   ]
  },
  {
   "cell_type": "code",
   "execution_count": 2,
   "id": "2d814ada-546b-448b-b49b-43e450a44bf7",
   "metadata": {},
   "outputs": [],
   "source": [
    "#2\n",
    "#Supervised learning, also known as supervised machine learning, is a subcategory of machine learning and artificial intelligence. It is defined by its use of labeled datasets to train algorithms that to classify data or predict outcomes accurately. As input data is fed into the model, it adjusts its weights until the model has been fitted appropriately, which occurs as part of the cross validation process. Supervised learning helps organizations solve for a variety of real-world problems at scale, such as classifying spam in a separate folder from your inbox.\n",
    "# neural network, naive bayes, super vector machine,lnear regression , k nearest neighbour "
   ]
  },
  {
   "cell_type": "code",
   "execution_count": 3,
   "id": "d474da65-f6bb-4543-b263-b396fe055160",
   "metadata": {},
   "outputs": [],
   "source": [
    "#3\n",
    "#nsupervised learning cannot be directly applied to a regression or classification problem because unlike supervised learning, we have the input data but no corresponding output data. The goal of unsupervised learning is to find the underlying structure of dataset, group that data according to similarities, and represent that dataset in a compressed format.\n",
    "#In the previous topic, we learned supervised machine learning in which models are trained using labeled data under the supervision of training data. But there may be many cases in which we do not have labeled data and need to find the hidden patterns from the given dataset. So, to solve such types of cases in machine learning, we need unsupervised learning techniques.\n",
    "# clustering,association"
   ]
  },
  {
   "cell_type": "code",
   "execution_count": 4,
   "id": "c1ce3ea3-674c-4b62-8c40-a2d1120b7bed",
   "metadata": {},
   "outputs": [],
   "source": [
    "#4\n",
    "# A.I s a branch of computer science. It involves building smart machines capable of performing tasks that need human intelligence.\n",
    "\n",
    "#These systems mimic human cognitive functions, allowing decision-making, and helping improve learning. AI-enabled systems also forecast financial and business outcomes and offer solutions for businesses. These machines interpret data to achieve business goals with greater precision and efficiency."
   ]
  },
  {
   "cell_type": "code",
   "execution_count": 5,
   "id": "d6cbfcf6-dd7e-4977-bd78-cfcb0be050f7",
   "metadata": {},
   "outputs": [],
   "source": [
    "# machine learning is the subsection of artificial intelligence based on algorithms and data usage. Machine learning requires complex math and a lot of coding to achieve the desired results.\n",
    "\n",
    "#Machine learning algorithms use computational methods and learn from the data without depending on any predetermined equation. It is an application of AI that allows systems to learn and improve from experience. \n",
    "\n",
    "#Machine learning algorithms improve their performance with increased samples available to learn and create better models. Machine learning algorithms use historical data as input to predict the new output. These algorithms identify data patterns, build self-explanatory models, and make predictions.\n",
    "\n",
    "#Must Read – Applications of AI and Machine Learning in Education\n",
    "\n",
    "# You will have to train these algorithms on large amounts of data. The more data you provide for your algorithm, the better your model will be."
   ]
  },
  {
   "cell_type": "code",
   "execution_count": 6,
   "id": "f4a0621e-1d4d-4d6c-8f45-e370a1fd179b",
   "metadata": {},
   "outputs": [],
   "source": [
    "# a subfield of artificial intelligence. It uses a multi-layered structure of algorithms called a neural network. DL algorithms also need data to learn and solve problems. We can also call it a subfield of machine learning. \n",
    "\n",
    "#The terms machine learning and deep learning are often treated as synonyms. But, these systems have different capabilities.\n",
    "\n",
    "#The deep learning approach is suited to complex tasks where all aspects of the objects can’t be classified in advance. The DL system finds appropriate differentiators in the data without any external classification. Thus, there is no need for a developer to intervene.\n",
    "\n",
    "#It analyzes new entries for new features at each layer and uses it to decide how to classify the entries. The system checks whether new classifications or categories can be generated from the new entries."
   ]
  },
  {
   "cell_type": "code",
   "execution_count": 7,
   "id": "05c585f9-5322-42cd-aa6d-973514e97de0",
   "metadata": {},
   "outputs": [],
   "source": [
    "# data science is a discipline that uses various technologies and methods to analyze data. It combines computational science, statistics, mathematics, and company or business knowledge.\n",
    "\n",
    "#The main goal of data science is to find patterns in data. It uses various statistical techniques to analyze and extract information from the data. Data scientists can help companies make smarter business decisions through these valuable"
   ]
  },
  {
   "cell_type": "code",
   "execution_count": 9,
   "id": "5d644050-bc8b-41ff-a322-fbde0e84207b",
   "metadata": {},
   "outputs": [],
   "source": [
    "#5\n",
    "#Supervised learning is a machine learning approach that’s defined by its use of labeled datasets. These datasets are designed to train or “supervise” algorithms into classifying data or predicting outcomes accurately. Using labeled inputs and outputs, the model can measure its accuracy and learn over time.\n",
    "\n",
    "#Supervised learning can be separated into two types of problems when data mining: classification and regression:\n",
    "\n",
    "#Classification problems use an algorithm to accurately assign test data into specific categories, such as separating apples from oranges. Or, in the real world, supervised learning algorithms can be used to classify spam in a separate folder from your inbox. Linear classifiers, support vector machines, decision trees and random forest are all common types of classification algorithms.\n",
    "#Regression is another type of supervised learning method that uses an algorithm to understand the relationship between dependent and independent variables. Regression models are helpful for predicting numerical values based on different data points, such as sales revenue projections for a given business. Some popular regression algorithms are linear regression, logistic regression and polynomial regression.\n",
    "#What is unsupervised learning?\n",
    "#Unsupervised learning uses machine learning algorithms to analyze and cluster unlabeled data sets. These algorithms discover hidden patterns in data without the need for human intervention (hence, they are “unsupervised”).\n",
    "\n",
    "#Unsupervised learning models are used for three main tasks: clustering, association and dimensionality reduction:\n",
    "\n",
    "#Clustering is a data mining technique for grouping unlabeled data based on their similarities or differences. For example, K-means clustering algorithms assign similar data points into groups, where the K value represents the size of the grouping and granularity. This technique is helpful for market segmentation, image compression, etc.\n",
    "#Association is another type of unsupervised learning method that uses different rules to find relationships between variables in a given dataset. These methods are frequently used for market basket analysis and recommendation engines, along the lines of “Customers Who Bought This Item Also Bought” recommendations.\n",
    "#Dimensionality reduction is a learning technique used when the number of features  (or dimensions) in a given dataset is too high. It reduces the number of data inputs to a manageable size while also preserving the data integrity. Often, this technique is used in the preprocessing data stage, such as when autoencoders remove noise from visual data to improve picture quality.\n",
    "#semi-supervised learning is a type of machine learning that sits between supervised and unsupervised learning.0 It is characterized by using a combination of a small amount of human-labeled data and a large amount of unlabeled data.12 In addition to unlabeled data, the algorithm is provided with some super-vision information, but not necessarily for all examples. This information may be the targets associated with some of the examples.0 The relevance and notability of semi-supervised learning increased with the advent of large language models due to the large amount of data required to train them.12"
   ]
  },
  {
   "cell_type": "code",
   "execution_count": 10,
   "id": "77681312-9217-4763-b58f-3ae99e036a64",
   "metadata": {},
   "outputs": [],
   "source": [
    "#6\n",
    "#Train-Valid-Test split is a technique used to evaluate the performance of a machine learning model in classification or regression tasks. It involves dividing a dataset into three subsets: training, validation, and test. The training dataset is used to fit parameters to the machine learning model, while the validation dataset provides an unbiased evaluation of a model fitted on the training dataset while tuning model hyperparameters.1 The test dataset informs us about the final accuracy of the model after completing the training phase.3 Another approach involves splitting an initial dataset into two halves, training and testing, with a proportion of randomly chosen training data becoming the actual training set. The remaining values in the array are for later iterations to validate inputs.0 Best practice recommends splitting data into three independent sets: a training set, a testing set, and a validation set.2"
   ]
  },
  {
   "cell_type": "code",
   "execution_count": 11,
   "id": "29beae53-3b34-4465-856e-dd1920a9ccb7",
   "metadata": {},
   "outputs": [],
   "source": [
    "#7ny anomaly detection algorithm, whether supervised or unsupervised needs to be evaluated in order to see how effective the algorithm is. Since the number of occurrence of anomalies is relatively very small as compared to normal data points, we can’t use accuracy as an evaluation metric because for a model that predicts everything as non-anomalous, the accuracy will be greater than 99.9% and we wouldn’t have captured any anomaly. This is completely undesirable. Our requirement is to evaluate how many anomalies did we detect and how many did we miss. Predicting a non-anomalous example as anomalous will do almost no harm to any system but predicting an anomalous example as non-anomalous can cause significant damage. One metric that helps us in such an evaluation criteria is by computing the confusion matrix of the predicted values. A confusion matrix is a summary of prediction results on a classification problem. The number of correct and incorrect predictions are summarized with count values and broken down by each class. This is the key to the confusion matrix. The confusion matrix shows the ways in which your classification model is confused when it makes predictions. It gives us insight not only into the errors being made by a classifier but more importantly the types of errors that are being made."
   ]
  },
  {
   "cell_type": "code",
   "execution_count": null,
   "id": "ae16c391-d568-443a-95cc-9102bb7ead95",
   "metadata": {},
   "outputs": [],
   "source": [
    "#8 supervised leaning algorithm : classification, Regression\n",
    "# unsupervised learning : clustering "
   ]
  }
 ],
 "metadata": {
  "kernelspec": {
   "display_name": "Python 3 (ipykernel)",
   "language": "python",
   "name": "python3"
  },
  "language_info": {
   "codemirror_mode": {
    "name": "ipython",
    "version": 3
   },
   "file_extension": ".py",
   "mimetype": "text/x-python",
   "name": "python",
   "nbconvert_exporter": "python",
   "pygments_lexer": "ipython3",
   "version": "3.10.8"
  }
 },
 "nbformat": 4,
 "nbformat_minor": 5
}
